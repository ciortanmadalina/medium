{
 "cells": [
  {
   "cell_type": "code",
   "execution_count": 1,
   "metadata": {
    "ExecuteTime": {
     "end_time": "2019-04-06T19:35:48.190530Z",
     "start_time": "2019-04-06T19:35:44.693428Z"
    }
   },
   "outputs": [],
   "source": [
    "import os\n",
    "import sys\n",
    "import numpy as np\n",
    "import scipy.sparse.csgraph\n",
    "from sklearn import preprocessing\n",
    "from sklearn import metrics\n",
    "import matplotlib.pyplot as plt\n",
    "import pandas as pd\n",
    "from functools import reduce\n",
    "import seaborn as sns\n",
    "from sklearn.cluster import DBSCAN\n",
    "from collections import Counter\n",
    "from mpl_toolkits.mplot3d import Axes3D\n",
    "import itertools\n",
    "plt.ion()\n",
    "plt.show()"
   ]
  },
  {
   "cell_type": "code",
   "execution_count": 29,
   "metadata": {
    "ExecuteTime": {
     "end_time": "2019-04-06T19:41:09.880450Z",
     "start_time": "2019-04-06T19:41:09.559827Z"
    }
   },
   "outputs": [
    {
     "data": {
      "image/png": "[encoded data removed]",
      "text/plain": [
       "<Figure size 432x288 with 1 Axes>"
      ]
     },
     "metadata": {
      "needs_background": "light"
     },
     "output_type": "display_data"
    }
   ],
   "source": [
    "from sklearn.datasets.samples_generator import make_blobs\n",
    "from sklearn.preprocessing import StandardScaler\n",
    "\n",
    "n_components = 4\n",
    "data, truth = make_blobs(n_samples=100, centers=n_components, random_state=42, n_features=2)\n",
    "data = preprocessing.MinMaxScaler().fit_transform(data)\n",
    "plt.scatter(data[:, 0], data[:, 1], s=50, c = truth)\n",
    "plt.title(f\"Example of a mixture of {n_components} distributions\")\n",
    "plt.xlabel(\"Feature 1\")\n",
    "plt.ylabel(\"Feature 2\");\n"
   ]
  },
  {
   "cell_type": "code",
   "execution_count": 30,
   "metadata": {
    "ExecuteTime": {
     "end_time": "2019-04-06T19:41:10.642648Z",
     "start_time": "2019-04-06T19:41:10.630670Z"
    }
   },
   "outputs": [],
   "source": [
    "class DenseUnit:\n",
    "    def __init__(self, dimensions, points):\n",
    "        self.dimensions = dimensions\n",
    "        self.points = points\n",
    "    \n",
    "    def __str__(self):\n",
    "        return f'Dim {self.dimensions}, points {len(self.points)}'\n",
    "    \n",
    "    def __eq__(self, other):\n",
    "        \"\"\"Overrides the default implementation\"\"\"\n",
    "        if isinstance(other, DenseUnit):\n",
    "            return (Counter(self.dimensions) == Counter(other.dimensions) and\n",
    "                   Counter(self.points) == Counter(other.points) )\n",
    "        return False\n",
    "    \n",
    "    def __hash__(self):\n",
    "        return hash(str(self))"
   ]
  },
  {
   "cell_type": "code",
   "execution_count": 31,
   "metadata": {
    "ExecuteTime": {
     "end_time": "2019-04-06T19:41:11.119300Z",
     "start_time": "2019-04-06T19:41:11.110363Z"
    }
   },
   "outputs": [],
   "source": [
    "N = data.shape[0] # Number of points\n",
    "thresholdPoints = 2\n",
    "thresholdPoints\n",
    "densityThreshold = 0.3"
   ]
  },
  {
   "cell_type": "code",
   "execution_count": 32,
   "metadata": {
    "ExecuteTime": {
     "end_time": "2019-04-06T19:41:11.571247Z",
     "start_time": "2019-04-06T19:41:11.549967Z"
    }
   },
   "outputs": [],
   "source": [
    "def printClusters(denseUnits, data, do3D = False):\n",
    "    for i in range(len(denseUnits)):\n",
    "        pred = np.zeros(len(data))\n",
    "        pred[denseUnits[i].points] = 1\n",
    "        if do3D:\n",
    "            fig = plt.figure()\n",
    "            ax = Axes3D(fig)\n",
    "            plt.title(f'Dimension {denseUnits[i].dimensions}, cluster {i}')\n",
    "            ax.scatter(data[:, 0], data[:, 1],data[:, 2], s=50, c = pred)\n",
    "            ax.set_xlabel('0')\n",
    "            ax.set_ylabel('1')\n",
    "            ax.set_zlabel('2')\n",
    "        else:\n",
    "            plt.figure()\n",
    "            plt.title(f'Dimension {denseUnits[i].dimensions}, cluster {i}')\n",
    "            plt.scatter(data[:, 0], data[:, 1], c = pred)\n",
    "        \n",
    "def getDenseUnits(points, curDim, referenceIndex = None):\n",
    "    denseUnits = []\n",
    "    clustering = DBSCAN(eps=0.05, min_samples=2).fit(points.reshape(-1, 1))\n",
    "#     print(np.unique(clustering.labels_, return_counts=True))\n",
    "    for clusterId in np.unique(clustering.labels_):\n",
    "        if clusterId != -1:\n",
    "            clusterPoints = np.where(clustering.labels_ == clusterId)[0]\n",
    "            if referenceIndex is not None:\n",
    "                clusterPoints = referenceIndex[clusterPoints]\n",
    "            denseUnits.append(DenseUnit([curDim],clusterPoints))\n",
    "    return denseUnits\n",
    "\n",
    "def get1DDenseUnits(data):\n",
    "    denseUnits = []\n",
    "    for curDim in range(data.shape[1]):\n",
    "        points = data[:, curDim]\n",
    "        denseUnits.extend(getDenseUnits(points, curDim))\n",
    "    return denseUnits"
   ]
  },
  {
   "cell_type": "code",
   "execution_count": 33,
   "metadata": {
    "ExecuteTime": {
     "end_time": "2019-04-06T19:41:12.025873Z",
     "start_time": "2019-04-06T19:41:12.010353Z"
    }
   },
   "outputs": [],
   "source": [
    "def getCandidates(prev_dim_dense_units, current_dim = 2):\n",
    "    candidates = []\n",
    "\n",
    "    for ix1, ix2 in itertools.combinations(range(len(prev_dim_dense_units)), 2):\n",
    "        dims =[]\n",
    "        candidate = []\n",
    "\n",
    "        dims.extend(prev_dim_dense_units[ix1].dimensions)\n",
    "        candidate.append(prev_dim_dense_units[ix1])\n",
    "        points1= prev_dim_dense_units[ix1].points\n",
    "\n",
    "        dims.extend(prev_dim_dense_units[ix2].dimensions)\n",
    "        candidate.append(prev_dim_dense_units[ix2])\n",
    "        points2= prev_dim_dense_units[ix2].points \n",
    "        points = np.intersect1d(points1, points2) # check points in common\n",
    "        if np.unique(dims).shape[0] == current_dim and points.shape[0]>thresholdPoints:\n",
    "            candidates.append(DenseUnit(np.unique(dims),points))\n",
    "    return list(set(candidates))\n",
    "\n",
    "\n",
    "def subclusterCandidate(data, candidate):\n",
    "    \"\"\"\n",
    "    It is possible that the feature space on each 1D dimension becomes\n",
    "    multimodal, as we removed some of the observations by the intersection\n",
    "    in k dimensions.\n",
    "    in order to be sure that we are not missing any subcluster, we can perform the same \n",
    "    heuristic on each candidate cluster\n",
    "    \"\"\"\n",
    "    observations = candidate.points\n",
    "    dims = candidate.dimensions\n",
    "    curData =data[observations]\n",
    "    current_dim = len(dims)\n",
    "    denseUnits1D = []\n",
    "    hasSplit = False\n",
    "    for curDim in np.unique(dims):\n",
    "        points = curData[:, curDim]\n",
    "        newDenseUnits = getDenseUnits(points, curDim, referenceIndex=observations)\n",
    "        if len(newDenseUnits)>1:\n",
    "            hasSplit = True\n",
    "#             print('SPLIT!', curDim)\n",
    "        denseUnits1D.extend(newDenseUnits)\n",
    "    if hasSplit == False: # we couldn't subcluster current cluster\n",
    "        return [candidate]\n",
    "    subcandidates = getCandidates(denseUnits1D, current_dim = current_dim)\n",
    "    return subcandidates"
   ]
  },
  {
   "cell_type": "code",
   "execution_count": 34,
   "metadata": {
    "ExecuteTime": {
     "end_time": "2019-04-06T19:41:12.561229Z",
     "start_time": "2019-04-06T19:41:12.547572Z"
    }
   },
   "outputs": [],
   "source": [
    "denseUnits1D = get1DDenseUnits(data)\n",
    "# printClusters(denseUnits1D, data)"
   ]
  },
  {
   "cell_type": "code",
   "execution_count": 35,
   "metadata": {
    "ExecuteTime": {
     "end_time": "2019-04-06T19:41:13.364094Z",
     "start_time": "2019-04-06T19:41:13.339683Z"
    }
   },
   "outputs": [
    {
     "name": "stdout",
     "output_type": "stream",
     "text": [
      "In yellow, clusters in 2\n"
     ]
    }
   ],
   "source": [
    "prevDimCandidates = denseUnits1D\n",
    "for subspaceDim in range(2, data.shape[1] +1):\n",
    "    print(f'In yellow, clusters in {subspaceDim}')\n",
    "    candidates = getCandidates(prevDimCandidates, current_dim = subspaceDim)\n",
    "    prevDimCandidates = []\n",
    "    for candidate in candidates:\n",
    "        prevDimCandidates.extend(subclusterCandidate(data, candidate))\n"
   ]
  },
  {
   "cell_type": "code",
   "execution_count": 36,
   "metadata": {
    "ExecuteTime": {
     "end_time": "2019-04-06T19:41:15.988153Z",
     "start_time": "2019-04-06T19:41:14.418141Z"
    }
   },
   "outputs": [
    {
     "data": {
      "image/png": "[encoded data removed]",
      "text/plain": [
       "<Figure size 432x288 with 1 Axes>"
      ]
     },
     "metadata": {
      "needs_background": "light"
     },
     "output_type": "display_data"
    },
    {
     "data": {
      "image/png": "[encoded data removed]",
      "text/plain": [
       "<Figure size 432x288 with 1 Axes>"
      ]
     },
     "metadata": {
      "needs_background": "light"
     },
     "output_type": "display_data"
    },
    {
     "data": {
      "image/png": "[encoded data removed]",
      "text/plain": [
       "<Figure size 432x288 with 1 Axes>"
      ]
     },
     "metadata": {
      "needs_background": "light"
     },
     "output_type": "display_data"
    },
    {
     "data": {
      "image/png": "[encoded data removed]",
      "text/plain": [
       "<Figure size 432x288 with 1 Axes>"
      ]
     },
     "metadata": {
      "needs_background": "light"
     },
     "output_type": "display_data"
    }
   ],
   "source": [
    "printClusters(prevDimCandidates, data, do3D = False)"
   ]
  },
  {
   "cell_type": "markdown",
   "metadata": {},
   "source": [
    "## Evaluate results"
   ]
  },
  {
   "cell_type": "code",
   "execution_count": 37,
   "metadata": {
    "ExecuteTime": {
     "end_time": "2019-04-06T20:47:01.271892Z",
     "start_time": "2019-04-06T20:47:01.261374Z"
    }
   },
   "outputs": [],
   "source": [
    "def evaluateClustering(denseUnits, truth):\n",
    "    from sklearn.metrics.cluster import adjusted_rand_score\n",
    "    clusterAssignment = -1 * np.ones(data.shape[0])\n",
    "    for i, unit in enumerate(denseUnits):\n",
    "        clusterAssignment[unit.points] = i\n",
    "    print('adjusted_rand_score: ', adjusted_rand_score(truth, clusterAssignment))\n",
    "        \n",
    "evaluateClustering(prevDimCandidates, truth)"
   ]
  },
  {
   "cell_type": "code",
   "execution_count": null,
   "metadata": {},
   "outputs": [],
   "source": []
  },
  {
   "cell_type": "code",
   "execution_count": null,
   "metadata": {},
   "outputs": [],
   "source": []
  },
  {
   "cell_type": "code",
   "execution_count": null,
   "metadata": {},
   "outputs": [],
   "source": []
  },
  {
   "cell_type": "code",
   "execution_count": null,
   "metadata": {},
   "outputs": [],
   "source": []
  },
  {
   "cell_type": "code",
   "execution_count": null,
   "metadata": {},
   "outputs": [],
   "source": []
  },
  {
   "cell_type": "code",
   "execution_count": null,
   "metadata": {
    "ExecuteTime": {
     "end_time": "2019-04-06T19:02:53.579376Z",
     "start_time": "2019-04-06T19:02:51.963552Z"
    },
    "scrolled": false
   },
   "outputs": [],
   "source": [
    "current_dim = 2\n",
    "candidates = getCandidates(denseUnits1D, current_dim = current_dim)\n",
    "prevDimCandidates = []\n",
    "for candidate in candidates:\n",
    "    prevDimCandidates.extend(subclusterCandidate(data, candidate))\n",
    "printClusters(prevDimCandidates, data)"
   ]
  },
  {
   "cell_type": "code",
   "execution_count": null,
   "metadata": {
    "ExecuteTime": {
     "end_time": "2019-04-06T19:03:01.793032Z",
     "start_time": "2019-04-06T19:03:01.776076Z"
    }
   },
   "outputs": [],
   "source": [
    "current_dim = 3\n",
    "candidates = getCandidates(prevDimCandidates, current_dim = current_dim)\n",
    "candidates\n",
    "\n",
    "observations = candidates[1].points\n",
    "observations\n",
    "\n",
    "fig = plt.figure()\n",
    "ax = Axes3D(fig)\n",
    "\n",
    "ax.scatter(data[observations][:, 0], data[observations][:, 1],data[observations][:, 2], s=50)\n",
    "ax.set_xlabel('0')\n",
    "ax.set_ylabel('1')\n",
    "ax.set_zlabel('2')\n",
    "\n",
    "i = 0\n",
    "sns.distplot(data[observations][:, i])\n",
    "clustering = DBSCAN(eps=0.05, min_samples=2).fit(data[observations][:, i].reshape(-1, 1))\n",
    "Counter(clustering.labels_)\n",
    "\n",
    "from scipy import stats\n",
    "from scipy import signal\n",
    "kernel = stats.gaussian_kde(data[observations][:, i])\n",
    "x = np.linspace(min(data[observations][:, i]), max(data[observations][:, i]), 100)\n",
    "y = kernel(x)\n",
    "plt.plot(x, y)\n",
    "from scipy.signal import argrelextrema\n",
    "# print(y)\n",
    "# print(1/y)\n",
    "# # print(argrelextrema(y, np.less))\n",
    "# print('MIN', signal.find_peaks_cwt(1/y, x))\n",
    "# np.diff(y)\n",
    "np.where(np.diff(np.sign(np.diff(y)))>0)[0]"
   ]
  },
  {
   "cell_type": "code",
   "execution_count": null,
   "metadata": {},
   "outputs": [],
   "source": []
  },
  {
   "cell_type": "code",
   "execution_count": null,
   "metadata": {
    "ExecuteTime": {
     "end_time": "2019-04-06T18:50:06.961092Z",
     "start_time": "2019-04-06T18:50:06.554600Z"
    }
   },
   "outputs": [],
   "source": []
  },
  {
   "cell_type": "code",
   "execution_count": null,
   "metadata": {
    "ExecuteTime": {
     "end_time": "2019-04-06T18:40:45.581215Z",
     "start_time": "2019-04-06T18:40:45.071682Z"
    },
    "scrolled": false
   },
   "outputs": [],
   "source": [
    "printClusters(candidates, data, do3D = True)"
   ]
  },
  {
   "cell_type": "code",
   "execution_count": null,
   "metadata": {},
   "outputs": [],
   "source": []
  },
  {
   "cell_type": "code",
   "execution_count": null,
   "metadata": {},
   "outputs": [],
   "source": []
  },
  {
   "cell_type": "code",
   "execution_count": null,
   "metadata": {},
   "outputs": [],
   "source": []
  },
  {
   "cell_type": "code",
   "execution_count": null,
   "metadata": {
    "ExecuteTime": {
     "end_time": "2019-04-06T19:04:33.630161Z",
     "start_time": "2019-04-06T19:04:31.503749Z"
    },
    "scrolled": false
   },
   "outputs": [],
   "source": []
  },
  {
   "cell_type": "code",
   "execution_count": null,
   "metadata": {},
   "outputs": [],
   "source": []
  },
  {
   "cell_type": "code",
   "execution_count": null,
   "metadata": {},
   "outputs": [],
   "source": []
  },
  {
   "cell_type": "code",
   "execution_count": null,
   "metadata": {},
   "outputs": [],
   "source": []
  },
  {
   "cell_type": "code",
   "execution_count": null,
   "metadata": {},
   "outputs": [],
   "source": []
  },
  {
   "cell_type": "code",
   "execution_count": null,
   "metadata": {},
   "outputs": [],
   "source": []
  },
  {
   "cell_type": "code",
   "execution_count": null,
   "metadata": {},
   "outputs": [],
   "source": []
  },
  {
   "cell_type": "markdown",
   "metadata": {},
   "source": [
    "## Create one dimensionals dense units"
   ]
  },
  {
   "cell_type": "code",
   "execution_count": null,
   "metadata": {
    "ExecuteTime": {
     "end_time": "2019-04-06T13:46:16.212652Z",
     "start_time": "2019-04-06T13:46:16.203102Z"
    }
   },
   "outputs": [],
   "source": [
    "def getHistogramBins(points, xsi, curDim):\n",
    "    minDim = min(points)\n",
    "    maxDim = max(points)\n",
    "    binSize = (maxDim - minDim)/xsi\n",
    "    bins = []\n",
    "    # Create histogram\n",
    "    for i in range(xsi):\n",
    "        endBin = minDim + binSize\n",
    "#         print(i, xsi, endBin, maxDim)\n",
    "        # Retrieve bin points per dimension\n",
    "        if i == xsi -1 : # last bin, make sure all points are included\n",
    "            binPoints = np.where((points>=minDim) & (points<=maxDim))[0]\n",
    "            endBin = maxDim\n",
    "        else:\n",
    "            binPoints = np.where((points>=minDim) & (points<endBin))[0]\n",
    "        bins.append(DenseUnit(curDim, i,minDim,endBin,binPoints))\n",
    "        minDim = endBin\n",
    "    return bins"
   ]
  },
  {
   "cell_type": "code",
   "execution_count": null,
   "metadata": {
    "ExecuteTime": {
     "end_time": "2019-04-06T13:46:17.600449Z",
     "start_time": "2019-04-06T13:46:17.581212Z"
    }
   },
   "outputs": [],
   "source": [
    "def mergeBins(bins, densityThreshold):\n",
    "    oneDimDenseUnits = []\n",
    "    # Merge bins\n",
    "    for i, curBin in enumerate(bins):\n",
    "        if len(oneDimDenseUnits) ==0:\n",
    "            oneDimDenseUnits.append(DenseUnit(curDim,len(oneDimDenseUnits),curBin.minBin,curBin.maxBin,curBin.points))\n",
    "            \n",
    "        else:\n",
    "            prevBin = bins[i-1]\n",
    "            if np.abs(len(prevBin.points) - len(curBin.points))<= len(prevBin.points)*densityThreshold:\n",
    "                lastMergedUnit = oneDimDenseUnits[-1]\n",
    "                oneDimDenseUnits.remove(lastMergedUnit)\n",
    "                mergedUnit = DenseUnit(curDim, len(oneDimDenseUnits),\n",
    "                                       lastMergedUnit.minBin,\n",
    "                                       curBin.maxBin,\n",
    "                                       np.concatenate([lastMergedUnit.points, curBin.points]))\n",
    "                oneDimDenseUnits.append(mergedUnit)\n",
    "            else:\n",
    "                oneDimDenseUnits.append(DenseUnit(curDim,len(oneDimDenseUnits),curBin.minBin,curBin.maxBin,curBin.points))\n",
    "    return oneDimDenseUnits"
   ]
  },
  {
   "cell_type": "code",
   "execution_count": null,
   "metadata": {
    "ExecuteTime": {
     "end_time": "2019-04-06T13:46:18.241461Z",
     "start_time": "2019-04-06T13:46:18.233319Z"
    }
   },
   "outputs": [],
   "source": [
    "denseUnits = np.array([])\n",
    "for curDim in range(data.shape[1]):\n",
    "    bins = getHistogramBins(data[:, curDim], xsi, curDim)\n",
    "    bins = mergeBins(bins, densityThreshold)\n",
    "    denseUnits = np.concatenate([denseUnits, bins])"
   ]
  },
  {
   "cell_type": "code",
   "execution_count": null,
   "metadata": {},
   "outputs": [],
   "source": []
  },
  {
   "cell_type": "code",
   "execution_count": null,
   "metadata": {},
   "outputs": [],
   "source": []
  },
  {
   "cell_type": "code",
   "execution_count": null,
   "metadata": {
    "ExecuteTime": {
     "end_time": "2019-04-06T13:46:20.380318Z",
     "start_time": "2019-04-06T13:46:20.363581Z"
    }
   },
   "outputs": [],
   "source": [
    "candidates = []\n",
    "grid = {i : [] for i in range(data.shape[1])}\n",
    "for unit in denseUnits:\n",
    "    print(unit, unit.maxBin)\n",
    "    candidates.append([unit])\n",
    "    if len(grid[unit.dimension]) == 0:\n",
    "        grid[unit.dimension].extend([unit.minBin, unit.maxBin])\n",
    "    else:\n",
    "        grid[unit.dimension].append(unit.maxBin)"
   ]
  },
  {
   "cell_type": "code",
   "execution_count": null,
   "metadata": {
    "ExecuteTime": {
     "end_time": "2019-04-06T13:46:22.522625Z",
     "start_time": "2019-04-06T13:46:22.510965Z"
    }
   },
   "outputs": [],
   "source": [
    "oneDimDenseUnits = candidates"
   ]
  },
  {
   "cell_type": "code",
   "execution_count": null,
   "metadata": {
    "ExecuteTime": {
     "end_time": "2019-04-06T13:46:23.695262Z",
     "start_time": "2019-04-06T13:46:23.213335Z"
    }
   },
   "outputs": [],
   "source": [
    "plt.scatter(data[:, 0], data[:, 1])\n",
    "for g in grid[0]:\n",
    "    plt.axvline(x=g, c = 'red', linestyle ='--')\n",
    "    \n",
    "for g in grid[1]:\n",
    "    plt.axhline(y=g, c = 'red', linestyle ='--')"
   ]
  },
  {
   "cell_type": "code",
   "execution_count": null,
   "metadata": {
    "ExecuteTime": {
     "end_time": "2019-04-06T13:46:54.785439Z",
     "start_time": "2019-04-06T13:46:54.773512Z"
    }
   },
   "outputs": [],
   "source": [
    "# graph = np.identity(len(candidates))\n",
    "# for i in range(len(candidates)):\n",
    "#     for j in range(len(candidates)):\n",
    "#         graph[i, j] = int(neighbour(candidates[i], candidates[j]))\n",
    "\n",
    "# number_of_components, component_list = scipy.sparse.csgraph.connected_components(\n",
    "#         graph, directed=False)\n",
    "# if debug:\n",
    "#     print(graph)\n",
    "#     print(number_of_components, component_list)\n",
    "\n",
    "# candidates = np.array(candidates)\n",
    "\n",
    "\n",
    "# allPred = -1 * np.ones(data.shape[0])\n",
    "# # For every cluster\n",
    "# for i in range(number_of_components):\n",
    "#     # Get dense units of the cluster\n",
    "#     cluster_dense_units = candidates[np.where(component_list == i)[0]]\n",
    "#     if debug:\n",
    "#         print(\">>>> Connected units: \")\n",
    "#         for v in cluster_dense_units:\n",
    "#             for z in v:\n",
    "#                 print(z)\n",
    "#     clusterDimensions = {}\n",
    "#     for j in range(len(cluster_dense_units)):\n",
    "#         for k in range(len(cluster_dense_units[j])):\n",
    "#             if cluster_dense_units[j][k].dimension not in clusterDimensions:\n",
    "#                 clusterDimensions[cluster_dense_units[j][k].dimension] = []\n",
    "#             clusterDimensions[cluster_dense_units[j][k].dimension].extend(cluster_dense_units[j][k].points)\n",
    "\n",
    "#     points =reduce(np.intersect1d, list(clusterDimensions.values()))\n",
    "#     allPred[points] = i\n",
    "#     if plot:\n",
    "#         pred = -1 * np.ones(data.shape[0])\n",
    "#         pred[points] = i\n",
    "#         plt.figure()\n",
    "#         plt.scatter(data[:, 0], data[:, 1], c = pred)\n",
    "#         for g in grid[0]:\n",
    "#             plt.axvline(x=g, c = 'red', linestyle ='--')\n",
    "\n",
    "#         for g in grid[1]:\n",
    "#             plt.axhline(y=g, c = 'red', linestyle ='--')\n",
    "#         plt.show()\n",
    "#     if debug:\n",
    "#         print(clusterDimensions.keys(), points)"
   ]
  },
  {
   "cell_type": "code",
   "execution_count": null,
   "metadata": {
    "ExecuteTime": {
     "end_time": "2019-04-06T13:47:01.762168Z",
     "start_time": "2019-04-06T13:46:55.282045Z"
    },
    "scrolled": false
   },
   "outputs": [],
   "source": [
    "findClusters(oneDimDenseUnits, plot = True, debug = True);"
   ]
  },
  {
   "cell_type": "markdown",
   "metadata": {},
   "source": [
    "## To do check merge 2D - 1D"
   ]
  },
  {
   "cell_type": "code",
   "execution_count": null,
   "metadata": {
    "ExecuteTime": {
     "end_time": "2019-04-06T13:48:19.121711Z",
     "start_time": "2019-04-06T13:48:19.112732Z"
    }
   },
   "outputs": [],
   "source": [
    "prev_dim_dense_units = oneDimDenseUnits\n",
    "current_dim = 2"
   ]
  },
  {
   "cell_type": "code",
   "execution_count": null,
   "metadata": {
    "ExecuteTime": {
     "end_time": "2019-04-06T13:48:19.775680Z",
     "start_time": "2019-04-06T13:48:19.685666Z"
    }
   },
   "outputs": [],
   "source": [
    "import itertools\n",
    "candidates = []\n",
    "for ix1, ix2 in itertools.combinations(range(len(prev_dim_dense_units)), 2):\n",
    "    dims =[]\n",
    "    candidate = []\n",
    "\n",
    "    for i in range(len(prev_dim_dense_units[ix1])):\n",
    "        dims.append(prev_dim_dense_units[ix1][i].dimension)\n",
    "        candidate.append(prev_dim_dense_units[ix1][i])\n",
    "        points1= prev_dim_dense_units[ix1][i].points\n",
    "        \n",
    "    for i in range(len(prev_dim_dense_units[ix2])):\n",
    "        dims.append(prev_dim_dense_units[ix2][i].dimension)\n",
    "        candidate.append(prev_dim_dense_units[ix2][i])\n",
    "        points2= prev_dim_dense_units[ix2][i].points \n",
    "    points = np.intersect1d(points1, points2) # check points in common\n",
    "    if np.unique(dims).shape[0] == current_dim and points.shape[0]>thresholdPoints:\n",
    "        print(f'\\n\\nadding candidate: {len(points)}')\n",
    "        for v in candidate:\n",
    "            print(v)\n",
    "        candidates.append(candidate)"
   ]
  },
  {
   "cell_type": "markdown",
   "metadata": {},
   "source": [
    "## Check prune"
   ]
  },
  {
   "cell_type": "code",
   "execution_count": null,
   "metadata": {
    "ExecuteTime": {
     "end_time": "2019-04-06T13:48:22.458389Z",
     "start_time": "2019-04-06T13:48:22.446576Z"
    }
   },
   "outputs": [],
   "source": [
    "for v in prev_dim_dense_units:\n",
    "    for z in v:\n",
    "        print(z)"
   ]
  },
  {
   "cell_type": "code",
   "execution_count": null,
   "metadata": {
    "ExecuteTime": {
     "end_time": "2019-04-06T13:48:23.108326Z",
     "start_time": "2019-04-06T13:48:23.096128Z"
    }
   },
   "outputs": [],
   "source": [
    "for i in range(len(candidates)):\n",
    "    for j in range(len(candidates[i])):\n",
    "        print(f'i {i}, j {j}, candidates {candidates[i][j]}')\n",
    "        if not prev_dim_dense_units.__contains__([candidates[i][j]]):\n",
    "            print(f'Removing {candidates[i]}')\n",
    "            candidates.remove(candidates[i])\n",
    "            break"
   ]
  },
  {
   "cell_type": "code",
   "execution_count": null,
   "metadata": {
    "ExecuteTime": {
     "end_time": "2019-04-06T13:48:33.809008Z",
     "start_time": "2019-04-06T13:48:27.827671Z"
    },
    "scrolled": false
   },
   "outputs": [],
   "source": [
    "allPred = findClusters(candidates, plot = True, debug = True);"
   ]
  },
  {
   "cell_type": "markdown",
   "metadata": {},
   "source": [
    "## Plot N-D results"
   ]
  },
  {
   "cell_type": "code",
   "execution_count": null,
   "metadata": {
    "ExecuteTime": {
     "end_time": "2019-04-06T13:19:41.661144Z",
     "start_time": "2019-04-06T13:19:41.474286Z"
    }
   },
   "outputs": [],
   "source": [
    "plt.scatter(data[:, 0], data[:, 1], c = allPred)\n",
    "for g in grid[0]:\n",
    "    plt.axvline(x=g, c = 'red', linestyle ='--')\n",
    "    \n",
    "for g in grid[1]:\n",
    "    plt.axhline(y=g, c = 'red', linestyle ='--')"
   ]
  },
  {
   "cell_type": "code",
   "execution_count": null,
   "metadata": {
    "ExecuteTime": {
     "end_time": "2019-04-04T13:33:37.477531Z",
     "start_time": "2019-04-04T13:33:36.621531Z"
    }
   },
   "outputs": [],
   "source": [
    "findClusters(candidates, plot = True, debug = True);"
   ]
  },
  {
   "cell_type": "code",
   "execution_count": null,
   "metadata": {},
   "outputs": [],
   "source": []
  },
  {
   "cell_type": "code",
   "execution_count": null,
   "metadata": {
    "ExecuteTime": {
     "end_time": "2019-04-06T13:15:49.040632Z",
     "start_time": "2019-04-06T13:15:49.027663Z"
    },
    "scrolled": false
   },
   "outputs": [],
   "source": [
    "def findClusters(candidates, plot = False, debug = False):\n",
    "    graph = np.identity(len(candidates))\n",
    "    for i in range(len(candidates)):\n",
    "        for j in range(len(candidates)):\n",
    "            graph[i, j] = int(neighbour(candidates[i], candidates[j]))\n",
    "\n",
    "    number_of_components, component_list = scipy.sparse.csgraph.connected_components(\n",
    "            graph, directed=False)\n",
    "    if debug:\n",
    "        print(graph)\n",
    "        print(number_of_components, component_list)\n",
    "\n",
    "    candidates = np.array(candidates)\n",
    "\n",
    "\n",
    "    allPred = -1 * np.ones(data.shape[0])\n",
    "    # For every cluster\n",
    "    for i in range(number_of_components):\n",
    "        # Get dense units of the cluster\n",
    "        cluster_dense_units = candidates[np.where(component_list == i)[0]]\n",
    "        if debug:\n",
    "            print(\">>>> Connected units: \")\n",
    "            for v in cluster_dense_units:\n",
    "                for z in v:\n",
    "                    print(z)\n",
    "        clusterDimensions = {}\n",
    "        for j in range(len(cluster_dense_units)):\n",
    "            for k in range(len(cluster_dense_units[j])):\n",
    "                if cluster_dense_units[j][k].dimension not in clusterDimensions:\n",
    "                    clusterDimensions[cluster_dense_units[j][k].dimension] = []\n",
    "                clusterDimensions[cluster_dense_units[j][k].dimension].extend(cluster_dense_units[j][k].points)\n",
    "\n",
    "        points =reduce(np.intersect1d, list(clusterDimensions.values()))\n",
    "        allPred[points] = i\n",
    "        if plot:\n",
    "            pred = -1 * np.ones(data.shape[0])\n",
    "            pred[points] = i\n",
    "            plt.figure()\n",
    "            plt.scatter(data[:, 0], data[:, 1], c = pred)\n",
    "            for g in grid[0]:\n",
    "                plt.axvline(x=g, c = 'red', linestyle ='--')\n",
    "\n",
    "            for g in grid[1]:\n",
    "                plt.axhline(y=g, c = 'red', linestyle ='--')\n",
    "            plt.show()\n",
    "        if debug:\n",
    "            print(clusterDimensions.keys(), points)\n",
    "    return allPred"
   ]
  },
  {
   "cell_type": "code",
   "execution_count": null,
   "metadata": {},
   "outputs": [],
   "source": []
  },
  {
   "cell_type": "code",
   "execution_count": null,
   "metadata": {},
   "outputs": [],
   "source": []
  },
  {
   "cell_type": "code",
   "execution_count": null,
   "metadata": {},
   "outputs": [],
   "source": []
  },
  {
   "cell_type": "code",
   "execution_count": null,
   "metadata": {},
   "outputs": [],
   "source": []
  },
  {
   "cell_type": "code",
   "execution_count": null,
   "metadata": {
    "ExecuteTime": {
     "end_time": "2019-04-06T12:55:55.193079Z",
     "start_time": "2019-04-06T12:55:55.179120Z"
    }
   },
   "outputs": [],
   "source": [
    "# denseUnits = np.array([])\n",
    "\n",
    "# for curDim in range(data.shape[1]):\n",
    "    \n",
    "#     minDim = min(data[:,curDim])\n",
    "#     maxDim = max(data[:,curDim])\n",
    "#     binSize = (maxDim - minDim)/xsi\n",
    "#     points = data[:, curDim]\n",
    "#     bins = []\n",
    "#     # Create histogram\n",
    "#     for i in range(xsi):\n",
    "#         endBin = minDim + binSize\n",
    "# #         print(i, xsi, endBin, maxDim)\n",
    "#         # Retrieve bin points per dimension\n",
    "#         if i == xsi -1 : # last bin, make sure all points are included\n",
    "#             binPoints = np.where((points>=minDim) & (points<=maxDim))[0]\n",
    "#             endBin = maxDim\n",
    "#         else:\n",
    "#             binPoints = np.where((points>=minDim) & (points<endBin))[0]\n",
    "#         bins.append(DenseUnit(curDim, i,minDim,endBin,binPoints))\n",
    "#         minDim = endBin\n",
    "#     oneDimDenseUnits = []\n",
    "#     # Merge bins\n",
    "#     for i, curBin in enumerate(bins):\n",
    "#         if len(oneDimDenseUnits) ==0:\n",
    "#             oneDimDenseUnits.append(DenseUnit(curDim,len(oneDimDenseUnits),curBin.minBin,curBin.maxBin,curBin.points))\n",
    "            \n",
    "#         else:\n",
    "#             prevBin = bins[i-1]\n",
    "#             if np.abs(len(prevBin.points) - len(curBin.points))<= len(prevBin.points)*densityThreshold:\n",
    "# #                 print('merging')\n",
    "#                 # merge\n",
    "#                 lastMergedUnit = oneDimDenseUnits[-1]\n",
    "#                 oneDimDenseUnits.remove(lastMergedUnit)\n",
    "#                 mergedUnit = DenseUnit(curDim, len(oneDimDenseUnits),\n",
    "#                                        lastMergedUnit.minBin,\n",
    "#                                        curBin.maxBin,\n",
    "#                                        np.concatenate([lastMergedUnit.points, curBin.points]))\n",
    "#                 oneDimDenseUnits.append(mergedUnit)\n",
    "#             else:\n",
    "# #                 print('not merging')\n",
    "#                 oneDimDenseUnits.append(DenseUnit(curDim,len(oneDimDenseUnits),curBin.minBin,curBin.maxBin,curBin.points))\n",
    "# #         print('adding ', oneDimDenseUnits[-1])\n",
    "#     denseUnits = np.concatenate([denseUnits, oneDimDenseUnits])"
   ]
  }
 ],
 "metadata": {
  "kernelspec": {
   "display_name": "Python 3",
   "language": "python",
   "name": "python3"
  },
  "language_info": {
   "codemirror_mode": {
    "name": "ipython",
    "version": 3
   },
   "file_extension": ".py",
   "mimetype": "text/x-python",
   "name": "python",
   "nbconvert_exporter": "python",
   "pygments_lexer": "ipython3",
   "version": "3.6.6"
  },
  "toc": {
   "base_numbering": 1,
   "nav_menu": {},
   "number_sections": true,
   "sideBar": true,
   "skip_h1_title": false,
   "title_cell": "Table of Contents",
   "title_sidebar": "Contents",
   "toc_cell": false,
   "toc_position": {},
   "toc_section_display": true,
   "toc_window_display": false
  },
  "varInspector": {
   "cols": {
    "lenName": 16,
    "lenType": 16,
    "lenVar": 40
   },
   "kernels_config": {
    "python": {
     "delete_cmd_postfix": "",
     "delete_cmd_prefix": "del ",
     "library": "var_list.py",
     "varRefreshCmd": "print(var_dic_list())"
    },
    "r": {
     "delete_cmd_postfix": ") ",
     "delete_cmd_prefix": "rm(",
     "library": "var_list.r",
     "varRefreshCmd": "cat(var_dic_list()) "
    }
   },
   "types_to_exclude": [
    "module",
    "function",
    "builtin_function_or_method",
    "instance",
    "_Feature"
   ],
   "window_display": false
  }
 },
 "nbformat": 4,
 "nbformat_minor": 2
}
